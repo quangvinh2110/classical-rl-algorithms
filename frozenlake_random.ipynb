{
 "cells": [
  {
   "cell_type": "code",
   "execution_count": 21,
   "metadata": {},
   "outputs": [
    {
     "name": "stdout",
     "output_type": "stream",
     "text": [
      "Episode done in 16 steps, total reward 0.00\n"
     ]
    }
   ],
   "source": [
    "import gymnasium as gym\n",
    "from gymnasium.wrappers import RecordVideo\n",
    "\n",
    "env = gym.make(\"FrozenLake-v1\", render_mode=\"rgb_array\")\n",
    "env = RecordVideo(env, video_folder=\"./videos\")\n",
    "total_reward = 0.0\n",
    "total_steps = 0\n",
    "obs, _ = env.reset()\n",
    "\n",
    "while True:\n",
    "    env.render()\n",
    "    action = env.action_space.sample()\n",
    "    obs, reward, is_done, is_trunc, _ = env.step(action)\n",
    "    total_reward += reward\n",
    "    total_steps += 1\n",
    "    if is_done:\n",
    "        break\n",
    "\n",
    "env.close()\n",
    "print(\"Episode done in %d steps, total reward %.2f\" % (total_steps, total_reward))"
   ]
  },
  {
   "cell_type": "code",
   "execution_count": 22,
   "metadata": {},
   "outputs": [
    {
     "name": "stdout",
     "output_type": "stream",
     "text": [
      "\u001b[31mSignature:\u001b[39m env.render() -> \u001b[33m'RenderFrame | list[RenderFrame]'\u001b[39m\n",
      "\u001b[31mSource:\u001b[39m   \n",
      "    \u001b[38;5;28;01mdef\u001b[39;00m render(self) -> RenderFrame | list[RenderFrame]:\n",
      "        \u001b[33m\"\"\"Compute the render frames as specified by render_mode attribute during initialization of the environment.\"\"\"\u001b[39m\n",
      "        render_out = super().render()\n",
      "        \u001b[38;5;28;01mif\u001b[39;00m self.recording \u001b[38;5;28;01mand\u001b[39;00m isinstance(render_out, List):\n",
      "            self.recorded_frames += render_out\n",
      "\n",
      "        \u001b[38;5;28;01mif\u001b[39;00m len(self.render_history) > \u001b[32m0\u001b[39m:\n",
      "            tmp_history = self.render_history\n",
      "            self.render_history = []\n",
      "            \u001b[38;5;28;01mreturn\u001b[39;00m tmp_history + render_out\n",
      "        \u001b[38;5;28;01melse\u001b[39;00m:\n",
      "            \u001b[38;5;28;01mreturn\u001b[39;00m render_out\n",
      "\u001b[31mFile:\u001b[39m      c:\\users\\asus\\miniconda3\\envs\\rl-hands-on\\lib\\site-packages\\gymnasium\\wrappers\\rendering.py\n",
      "\u001b[31mType:\u001b[39m      method"
     ]
    }
   ],
   "source": [
    "env.render??"
   ]
  },
  {
   "cell_type": "code",
   "execution_count": null,
   "metadata": {},
   "outputs": [],
   "source": []
  }
 ],
 "metadata": {
  "kernelspec": {
   "display_name": "rl-hands-on",
   "language": "python",
   "name": "python3"
  },
  "language_info": {
   "codemirror_mode": {
    "name": "ipython",
    "version": 3
   },
   "file_extension": ".py",
   "mimetype": "text/x-python",
   "name": "python",
   "nbconvert_exporter": "python",
   "pygments_lexer": "ipython3",
   "version": "3.11.11"
  }
 },
 "nbformat": 4,
 "nbformat_minor": 2
}
