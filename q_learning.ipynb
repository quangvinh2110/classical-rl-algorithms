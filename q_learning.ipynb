{
 "cells": [
  {
   "cell_type": "code",
   "execution_count": 1,
   "metadata": {},
   "outputs": [],
   "source": [
    "import numpy as np\n",
    "import gymnasium as gym\n",
    "from gymnasium.wrappers import RecordVideo\n",
    "from tqdm.notebook import tqdm"
   ]
  },
  {
   "cell_type": "code",
   "execution_count": 2,
   "metadata": {},
   "outputs": [],
   "source": [
    "def initialize_q_table(env):\n",
    "    \"\"\"\n",
    "    Initialize and return the Q-table as a numpy array.\n",
    "\n",
    "    The Q-table should have dimensions [number_of_states, number_of_actions].\n",
    "    Each entry corresponds to the estimated value for taking an action in a given state.\n",
    "\n",
    "    Parameters:\n",
    "    - env (gym.Env): The environment from which to derive the number of states and actions.\n",
    "\n",
    "    Returns:\n",
    "    - q_table (np.ndarray): The initialized Q-table (e.g., zeros) with shape (n_states, n_actions).\n",
    "    \"\"\"\n",
    "    n_states = env.observation_space.n\n",
    "    n_actions = env.action_space.n\n",
    "    q_table = np.zeros((n_states, n_actions))\n",
    "    return q_table\n",
    "\n",
    "\n",
    "def epsilon_greedy_policy(state, q_table, epsilon):\n",
    "    \"\"\"\n",
    "    Selects an action using the epsilon-greedy policy.\n",
    "    \n",
    "    Args:\n",
    "        state (int): Current state of the agent.\n",
    "        epsilon (float): Exploration probability (0 ≤ epsilon ≤ 1).\n",
    "        q_table (np.ndarray): Q-table for action-value estimates.\n",
    "        \n",
    "    Returns:\n",
    "        action (int): Chosen action (0 for LEFT, 1 for DOWN, 2 for RIGHT, 3 for UP).\n",
    "    \"\"\"\n",
    "    if np.random.random()<epsilon:\n",
    "        return np.random.randint(0, len(q_table[state]))\n",
    "    else:\n",
    "        return int(np.argmax(q_table[state]))\n",
    "\n",
    "\n",
    "def q_learning_update(q_table, state, action, reward, next_state, alpha, gamma):\n",
    "    \"\"\"\n",
    "    Updates the Q-table using the Q-learning rule.\n",
    "    \n",
    "    Args:\n",
    "        q_table (np.ndarray): Q-table to update.\n",
    "        state (int): Current state before taking the action.\n",
    "        action (int): Action taken.\n",
    "        reward (float): Reward received after taking the action.\n",
    "        next_state (int): Next state observed after the action.\n",
    "        alpha (float): Learning rate (0 < alpha ≤ 1).\n",
    "        gamma (float): Discount factor (0 ≤ gamma ≤ 1).\n",
    "        \n",
    "    Returns:\n",
    "        None (the input q_table is modified in-place).\n",
    "    \"\"\"\n",
    "    # Your code here to update the Q-table using the SARSA update rule\n",
    "    q_table[state][action]+=alpha*(reward+gamma*max(q_table[next_state])-q_table[state][action])\n",
    "    return\n",
    "\n",
    "\n",
    "def train_q_learning(env, num_episodes, alpha, gamma):\n",
    "    \"\"\"\n",
    "    Train the agent using the table lookup Q learning algorithm over a given number of episodes.\n",
    "\n",
    "    For each episode:\n",
    "      - Reset the environment.\n",
    "      - Choose the initial action using the epsilon-greedy policy.\n",
    "      - For each time step, perform the Q learning update until the episode terminates.\n",
    "      - Optionally decay epsilon after each episode.\n",
    "\n",
    "    Parameters:\n",
    "    - env (gym.Env): The environment to train on.\n",
    "    - num_episodes (int): Total number of episodes for training.\n",
    "    - alpha (float): The learning rate.\n",
    "    - gamma (float): The discount factor.\n",
    "\n",
    "    Returns:\n",
    "    - q_table (np.ndarray): The trained Q-table.\n",
    "    - rewards (list): A list of total rewards per episode (useful for monitoring learning progress).\n",
    "    \"\"\"\n",
    "    # Your code here to implement the training loop using Q-Learning\n",
    "    q_table = initialize_q_table(env)\n",
    "    rewards = []\n",
    "\n",
    "    for eps_id in tqdm(range(num_episodes)):\n",
    "        rewards.append(0)\n",
    "        state, _ = env.reset()\n",
    "        epsilon = 1.0 / (eps_id/10000 + 1) if eps_id < num_episodes*0.9 else 0\n",
    "        # epsilon = 1.0 / (eps_id + 1)\n",
    "        action = epsilon_greedy_policy(state, q_table, epsilon)\n",
    "        for _ in range(1000):\n",
    "            action = epsilon_greedy_policy(state, q_table, epsilon)\n",
    "            next_state, reward, is_done, is_trunc, _ = env.step(action)\n",
    "            q_learning_update(q_table, state, action, reward, next_state, alpha, gamma)\n",
    "            rewards[-1]+=reward\n",
    "            if is_done or is_trunc:\n",
    "                break\n",
    "            state = next_state\n",
    "\n",
    "        # Print progess every 5000 episodes\n",
    "        if (eps_id+1)%5000==0:\n",
    "            avg_reward = np.mean(rewards[-5000:])\n",
    "            print(f\"Episode {eps_id + 1}, Average Reward (last 5000 episodes): {avg_reward:.2f}\")\n",
    "\n",
    "    return q_table, rewards    "
   ]
  },
  {
   "cell_type": "markdown",
   "metadata": {},
   "source": [
    "# FrozenLake-v1"
   ]
  },
  {
   "cell_type": "code",
   "execution_count": null,
   "metadata": {},
   "outputs": [
    {
     "data": {
      "application/vnd.jupyter.widget-view+json": {
       "model_id": "acb1b1b572f44b69b07dc76b782f3486",
       "version_major": 2,
       "version_minor": 0
      },
      "text/plain": [
       "  0%|          | 0/60000 [00:00<?, ?it/s]"
      ]
     },
     "metadata": {},
     "output_type": "display_data"
    },
    {
     "name": "stdout",
     "output_type": "stream",
     "text": [
      "Episode 5000, Average Reward (last 5000 episodes): 0.10\n",
      "Episode 10000, Average Reward (last 5000 episodes): 0.31\n",
      "Episode 15000, Average Reward (last 5000 episodes): 0.48\n",
      "Episode 20000, Average Reward (last 5000 episodes): 0.59\n",
      "Episode 25000, Average Reward (last 5000 episodes): 0.65\n",
      "Episode 30000, Average Reward (last 5000 episodes): 0.71\n",
      "Episode 35000, Average Reward (last 5000 episodes): 0.74\n",
      "Episode 40000, Average Reward (last 5000 episodes): 0.77\n",
      "Episode 45000, Average Reward (last 5000 episodes): 0.80\n",
      "Episode 50000, Average Reward (last 5000 episodes): 0.82\n",
      "Episode 55000, Average Reward (last 5000 episodes): 0.87\n",
      "Episode 60000, Average Reward (last 5000 episodes): 1.00\n"
     ]
    }
   ],
   "source": [
    "num_episodes = 60000\n",
    "\n",
    "env = gym.make(\"FrozenLake-v1\", is_slippery=False)\n",
    "q_table, rewards = train_q_learning(env, num_episodes, alpha=0.1, gamma=0.99)\n",
    "env.close()"
   ]
  },
  {
   "cell_type": "code",
   "execution_count": 6,
   "metadata": {},
   "outputs": [
    {
     "name": "stderr",
     "output_type": "stream",
     "text": [
      "c:\\Users\\ASUS\\miniconda3\\envs\\rl-hands-on\\Lib\\site-packages\\gymnasium\\wrappers\\rendering.py:283: UserWarning: \u001b[33mWARN: Overwriting existing videos at e:\\Reinforcement Learning\\hands-on\\videos folder (try specifying a different `video_folder` for the `RecordVideo` wrapper if this is not desired)\u001b[0m\n",
      "  logger.warn(\n"
     ]
    }
   ],
   "source": [
    "env = gym.make(\"FrozenLake-v1\", render_mode=\"rgb_array\", is_slippery=False)\n",
    "env = RecordVideo(env, video_folder=\"./videos\")\n",
    "obs, _ = env.reset()\n",
    "for _ in range(1000):\n",
    "    env.render()\n",
    "    action = epsilon_greedy_policy(obs, q_table, 0)\n",
    "    next_obs, reward, is_done, is_trunc, _ = env.step(action)\n",
    "    if is_done or is_trunc:\n",
    "        break\n",
    "    obs = next_obs\n",
    "env.close()"
   ]
  },
  {
   "cell_type": "markdown",
   "metadata": {},
   "source": [
    "# Taxi-v3"
   ]
  },
  {
   "cell_type": "code",
   "execution_count": 3,
   "metadata": {},
   "outputs": [],
   "source": [
    "env_id = \"Taxi-v3\""
   ]
  },
  {
   "cell_type": "code",
   "execution_count": 6,
   "metadata": {},
   "outputs": [
    {
     "data": {
      "application/vnd.jupyter.widget-view+json": {
       "model_id": "6d10dcbc6226432d912112423f97c6c7",
       "version_major": 2,
       "version_minor": 0
      },
      "text/plain": [
       "  0%|          | 0/200000 [00:00<?, ?it/s]"
      ]
     },
     "metadata": {},
     "output_type": "display_data"
    },
    {
     "name": "stdout",
     "output_type": "stream",
     "text": [
      "Episode 5000, Average Reward (last 5000 episodes): -354.51\n",
      "Episode 10000, Average Reward (last 5000 episodes): -73.43\n",
      "Episode 15000, Average Reward (last 5000 episodes): -36.78\n",
      "Episode 20000, Average Reward (last 5000 episodes): -22.69\n",
      "Episode 25000, Average Reward (last 5000 episodes): -15.41\n",
      "Episode 30000, Average Reward (last 5000 episodes): -11.00\n",
      "Episode 35000, Average Reward (last 5000 episodes): -7.55\n",
      "Episode 40000, Average Reward (last 5000 episodes): -5.62\n",
      "Episode 45000, Average Reward (last 5000 episodes): -3.95\n",
      "Episode 50000, Average Reward (last 5000 episodes): -2.76\n",
      "Episode 55000, Average Reward (last 5000 episodes): -1.53\n",
      "Episode 60000, Average Reward (last 5000 episodes): -0.64\n",
      "Episode 65000, Average Reward (last 5000 episodes): -0.08\n",
      "Episode 70000, Average Reward (last 5000 episodes): 0.67\n",
      "Episode 75000, Average Reward (last 5000 episodes): 1.28\n",
      "Episode 80000, Average Reward (last 5000 episodes): 1.46\n",
      "Episode 85000, Average Reward (last 5000 episodes): 1.92\n",
      "Episode 90000, Average Reward (last 5000 episodes): 2.32\n",
      "Episode 95000, Average Reward (last 5000 episodes): 2.53\n",
      "Episode 100000, Average Reward (last 5000 episodes): 2.79\n",
      "Episode 105000, Average Reward (last 5000 episodes): 3.16\n",
      "Episode 110000, Average Reward (last 5000 episodes): 3.30\n",
      "Episode 115000, Average Reward (last 5000 episodes): 3.45\n",
      "Episode 120000, Average Reward (last 5000 episodes): 3.69\n",
      "Episode 125000, Average Reward (last 5000 episodes): 3.95\n",
      "Episode 130000, Average Reward (last 5000 episodes): 4.08\n",
      "Episode 135000, Average Reward (last 5000 episodes): 4.22\n",
      "Episode 140000, Average Reward (last 5000 episodes): 4.48\n",
      "Episode 145000, Average Reward (last 5000 episodes): 4.57\n",
      "Episode 150000, Average Reward (last 5000 episodes): 4.67\n",
      "Episode 155000, Average Reward (last 5000 episodes): 4.86\n",
      "Episode 160000, Average Reward (last 5000 episodes): 4.75\n",
      "Episode 165000, Average Reward (last 5000 episodes): 4.99\n",
      "Episode 170000, Average Reward (last 5000 episodes): 5.00\n",
      "Episode 175000, Average Reward (last 5000 episodes): 4.99\n",
      "Episode 180000, Average Reward (last 5000 episodes): 5.20\n",
      "Episode 185000, Average Reward (last 5000 episodes): 7.94\n",
      "Episode 190000, Average Reward (last 5000 episodes): 7.98\n",
      "Episode 195000, Average Reward (last 5000 episodes): 7.90\n",
      "Episode 200000, Average Reward (last 5000 episodes): 7.93\n"
     ]
    }
   ],
   "source": [
    "num_episodes = 200000\n",
    "\n",
    "env = gym.make(env_id, render_mode=\"rgb_array\")\n",
    "q_table, rewards = train_q_learning(env, num_episodes, alpha=0.1, gamma=0.99)\n",
    "env.close()"
   ]
  },
  {
   "cell_type": "code",
   "execution_count": 7,
   "metadata": {},
   "outputs": [
    {
     "name": "stderr",
     "output_type": "stream",
     "text": [
      "c:\\Users\\ASUS\\miniconda3\\envs\\rl-hands-on\\Lib\\site-packages\\gymnasium\\wrappers\\rendering.py:283: UserWarning: \u001b[33mWARN: Overwriting existing videos at e:\\Reinforcement Learning\\hands-on\\videos folder (try specifying a different `video_folder` for the `RecordVideo` wrapper if this is not desired)\u001b[0m\n",
      "  logger.warn(\n"
     ]
    }
   ],
   "source": [
    "env = gym.make(env_id, render_mode=\"rgb_array\")\n",
    "env = RecordVideo(env, video_folder=\"./videos\")\n",
    "obs, _ = env.reset()\n",
    "for _ in range(1000):\n",
    "    env.render()\n",
    "    action = epsilon_greedy_policy(obs, q_table, 0)\n",
    "    next_obs, reward, is_done, is_trunc, _ = env.step(action)\n",
    "    if is_done or is_trunc:\n",
    "        break\n",
    "    obs = next_obs\n",
    "env.close()"
   ]
  },
  {
   "cell_type": "code",
   "execution_count": null,
   "metadata": {},
   "outputs": [],
   "source": []
  }
 ],
 "metadata": {
  "kernelspec": {
   "display_name": "rl-hands-on",
   "language": "python",
   "name": "python3"
  },
  "language_info": {
   "codemirror_mode": {
    "name": "ipython",
    "version": 3
   },
   "file_extension": ".py",
   "mimetype": "text/x-python",
   "name": "python",
   "nbconvert_exporter": "python",
   "pygments_lexer": "ipython3",
   "version": "3.11.11"
  }
 },
 "nbformat": 4,
 "nbformat_minor": 2
}
